{
 "cells": [
  {
   "cell_type": "code",
   "execution_count": 13,
   "id": "6e171d2f",
   "metadata": {},
   "outputs": [
    {
     "name": "stdout",
     "output_type": "stream",
     "text": [
      "[[1, 2, 3], [4, 5, 6], [7, 8, 9]]\n"
     ]
    }
   ],
   "source": [
    "# Advanced Exercise: String Manipulation and Analysis\n",
    "\n",
    "phrase = \"Petra is one of the New 7 Wonders of the World\"\n",
    "\n",
    "# Manipulations\n",
    "reversed_phrase = phrase.[::-1] #YOUR CODE\n",
    "uppercase_phrase = # YOUR CODE\n",
    "\n",
    "# Analysis\n",
    "word_count =len(phrase) # YOUR CODE\n",
    "letter_count = # YOUR CODE\n",
    "\n",
    "print(\"Reversed:\", reversed_phrase)\n",
    "print(\"Uppercase:\", uppercase_phrase)\n",
    "print(\"Word Count:\", word_count)\n",
    "print(\"Count of 'e':\", letter_count)"
   ]
  }
 ],
 "metadata": {
  "kernelspec": {
   "display_name": "Python 3 (ipykernel)",
   "language": "python",
   "name": "python3"
  },
  "language_info": {
   "codemirror_mode": {
    "name": "ipython",
    "version": 3
   },
   "file_extension": ".py",
   "mimetype": "text/x-python",
   "name": "python",
   "nbconvert_exporter": "python",
   "pygments_lexer": "ipython3",
   "version": "3.11.5"
  }
 },
 "nbformat": 4,
 "nbformat_minor": 5
}
